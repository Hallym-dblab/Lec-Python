{
  "nbformat": 4,
  "nbformat_minor": 0,
  "metadata": {
    "colab": {
      "name": "birthdaymatch.ipynb",
      "provenance": [],
      "collapsed_sections": [],
      "authorship_tag": "ABX9TyMekWzmUlxllAFNSj5A+UmF",
      "include_colab_link": true
    },
    "kernelspec": {
      "name": "python3",
      "display_name": "Python 3"
    }
  },
  "cells": [
    {
      "cell_type": "markdown",
      "metadata": {
        "id": "view-in-github",
        "colab_type": "text"
      },
      "source": [
        "<a href=\"https://colab.research.google.com/github/Hallym-dblab/Lec-Python/blob/master/birthdaymatch.ipynb\" target=\"_parent\"><img src=\"https://colab.research.google.com/assets/colab-badge.svg\" alt=\"Open In Colab\"/></a>"
      ]
    },
    {
      "cell_type": "code",
      "metadata": {
        "id": "fQj5lYlj8t5h",
        "colab_type": "code",
        "colab": {}
      },
      "source": [
        ""
      ],
      "execution_count": 0,
      "outputs": []
    },
    {
      "cell_type": "markdown",
      "metadata": {
        "id": "f11JJk0Nkt6p",
        "colab_type": "text"
      },
      "source": [
        "<font size=20> <center>**Birthday Match Game 1**</center></font><br>\n",
        "<table>\n",
        "<tr>\n",
        "<td><font size=5>\n",
        "<li> Bob:  Alice, my birthday is coming in this month.<br>\n",
        "<li> Alice: Oh yeah, what day is it?<br>\n",
        "<li> Bob:  You can guess it.<br>\n",
        "<li> Alice: It’s fifth.<br>\n",
        "<li> Bob:  Excellent!, Alice, You guessed my birthday<br>\n",
        "\n",
        "![대체 텍스트](http://210.115.229.94:8080/images/fig1.jpg)\n",
        "</td>\n",
        "</tr>\n",
        "</table>\n"
      ]
    },
    {
      "cell_type": "code",
      "metadata": {
        "id": "GQHGQFuY3aq7",
        "colab_type": "code",
        "colab": {}
      },
      "source": [
        ""
      ],
      "execution_count": 0,
      "outputs": []
    },
    {
      "cell_type": "code",
      "metadata": {
        "id": "Pc-EZcXz3bTi",
        "colab_type": "code",
        "colab": {
          "base_uri": "https://localhost:8080/",
          "height": 105
        },
        "outputId": "fd156512-761c-4b84-946f-bcd75cd62ef0"
      },
      "source": [
        "print('Alice, my birthday is comming in this month.')\n",
        "print('Oh yeah, what day is it?')\n",
        "print('You can guess it.')\n",
        "\n",
        "realDay = 5\n",
        "\n",
        "guessDay = input()\n",
        "guessDay = int(guessDay)\n",
        "\n",
        "if guessDay == realDay:\n",
        "    print('Excellent!, Alice, You guessed my birthday')\n",
        "else:\n",
        "    print('Your guess is wrong')\n"
      ],
      "execution_count": 1,
      "outputs": [
        {
          "output_type": "stream",
          "text": [
            "Alice, my birthday is comming in this month.\n",
            "Oh yeah, what day is it?\n",
            "You can guess it.\n",
            "5\n",
            "Excellent!, Alice, You guessed my birthday\n"
          ],
          "name": "stdout"
        }
      ]
    },
    {
      "cell_type": "code",
      "metadata": {
        "id": "fyh4NIXx8R7u",
        "colab_type": "code",
        "colab": {}
      },
      "source": [
        ""
      ],
      "execution_count": 0,
      "outputs": []
    },
    {
      "cell_type": "code",
      "metadata": {
        "id": "xfkA3bWXzzj1",
        "colab_type": "code",
        "colab": {}
      },
      "source": [
        ""
      ],
      "execution_count": 0,
      "outputs": []
    },
    {
      "cell_type": "markdown",
      "metadata": {
        "id": "LkjsCWCvz0wV",
        "colab_type": "text"
      },
      "source": [
        ""
      ]
    },
    {
      "cell_type": "markdown",
      "metadata": {
        "id": "3DzJiCI-88Qn",
        "colab_type": "text"
      },
      "source": [
        "![대체 텍스트](https://)"
      ]
    }
  ]
}